{
 "cells": [
  {
   "cell_type": "markdown",
   "metadata": {},
   "source": [
    "# Main Dashboard"
   ]
  },
  {
   "cell_type": "code",
   "execution_count": 1,
   "metadata": {},
   "outputs": [
    {
     "name": "stderr",
     "output_type": "stream",
     "text": [
      "\n",
      "The dash_html_components package is deprecated. Please replace\n",
      "`import dash_html_components as html` with `from dash import html`\n",
      "\n",
      "The dash_core_components package is deprecated. Please replace\n",
      "`import dash_core_components as dcc` with `from dash import dcc`\n"
     ]
    }
   ],
   "source": [
    "# import libraries\n",
    "from sklearn import metrics\n",
    "from sklearn.model_selection import train_test_split\n",
    "import lightgbm as ltb\n",
    "import xgboost as xgb\n",
    "import catboost as catb\n",
    "import pandas as pd\n",
    "from sklearn.ensemble import RandomForestClassifier\n",
    "from explainerdashboard import ClassifierExplainer, ExplainerDashboard, ExplainerHub\n",
    "from explainerdashboard.custom import *\n",
    "import re"
   ]
  },
  {
   "cell_type": "code",
   "execution_count": 2,
   "metadata": {},
   "outputs": [],
   "source": [
    "# import dataset\n",
    "df = pd.read_csv(\"./cleaned_data/mental_health_data_2016-2021_ready_for_ML.csv\")"
   ]
  },
  {
   "cell_type": "code",
   "execution_count": 3,
   "metadata": {},
   "outputs": [],
   "source": [
    "# correct column names\n",
    "arp_data1 = df.rename(columns = lambda x:re.sub('[^A-Za-z0-9_]+', '', x))"
   ]
  },
  {
   "cell_type": "code",
   "execution_count": 5,
   "metadata": {},
   "outputs": [],
   "source": [
    "# Create train and test datasets\n",
    "y=arp_data1[\"have_mental_illness\"]\n",
    "X=arp_data1.drop(\"have_mental_illness\", axis=1)\n",
    "X_train, X_test, y_train, y_test = train_test_split(X, y, test_size=0.25)"
   ]
  },
  {
   "cell_type": "code",
   "execution_count": 6,
   "metadata": {},
   "outputs": [
    {
     "name": "stdout",
     "output_type": "stream",
     "text": [
      "0:\tlearn: 0.5843399\ttotal: 65.4ms\tremaining: 1.9s\n",
      "1:\tlearn: 0.4973169\ttotal: 66.5ms\tremaining: 932ms\n",
      "2:\tlearn: 0.4448547\ttotal: 67.5ms\tremaining: 608ms\n",
      "3:\tlearn: 0.3851343\ttotal: 68.4ms\tremaining: 445ms\n",
      "4:\tlearn: 0.3563289\ttotal: 69.3ms\tremaining: 346ms\n",
      "5:\tlearn: 0.3330590\ttotal: 70.1ms\tremaining: 280ms\n",
      "6:\tlearn: 0.2974046\ttotal: 71ms\tremaining: 233ms\n",
      "7:\tlearn: 0.2758809\ttotal: 71.9ms\tremaining: 198ms\n",
      "8:\tlearn: 0.2543805\ttotal: 72.8ms\tremaining: 170ms\n",
      "9:\tlearn: 0.2459829\ttotal: 73.7ms\tremaining: 147ms\n",
      "10:\tlearn: 0.2359240\ttotal: 74.8ms\tremaining: 129ms\n",
      "11:\tlearn: 0.2318740\ttotal: 75.7ms\tremaining: 114ms\n",
      "12:\tlearn: 0.2282749\ttotal: 76.6ms\tremaining: 100ms\n",
      "13:\tlearn: 0.2239790\ttotal: 77.4ms\tremaining: 88.4ms\n",
      "14:\tlearn: 0.2205427\ttotal: 78.3ms\tremaining: 78.3ms\n",
      "15:\tlearn: 0.2158993\ttotal: 79.2ms\tremaining: 69.3ms\n",
      "16:\tlearn: 0.2116776\ttotal: 80ms\tremaining: 61.2ms\n",
      "17:\tlearn: 0.2087111\ttotal: 80.8ms\tremaining: 53.9ms\n",
      "18:\tlearn: 0.2056989\ttotal: 81.8ms\tremaining: 47.4ms\n",
      "19:\tlearn: 0.2031156\ttotal: 83.4ms\tremaining: 41.7ms\n",
      "20:\tlearn: 0.2018584\ttotal: 84.3ms\tremaining: 36.1ms\n",
      "21:\tlearn: 0.2002625\ttotal: 85.7ms\tremaining: 31.2ms\n",
      "22:\tlearn: 0.1970574\ttotal: 86.5ms\tremaining: 26.3ms\n",
      "23:\tlearn: 0.1956516\ttotal: 87.3ms\tremaining: 21.8ms\n",
      "24:\tlearn: 0.1947143\ttotal: 88ms\tremaining: 17.6ms\n",
      "25:\tlearn: 0.1934189\ttotal: 88.8ms\tremaining: 13.7ms\n",
      "26:\tlearn: 0.1921648\ttotal: 89.7ms\tremaining: 9.97ms\n",
      "27:\tlearn: 0.1912011\ttotal: 90.5ms\tremaining: 6.46ms\n",
      "28:\tlearn: 0.1898710\ttotal: 91.3ms\tremaining: 3.15ms\n",
      "29:\tlearn: 0.1881439\ttotal: 92ms\tremaining: 0us\n",
      "Note: model_output=='probability'. For CatBoostClassifier shap values normally get calculated against X_background, but paramater X_background=None, so using X instead\n",
      "Generating self.shap_explainer = shap.TreeExplainer(model, X, model_output='probability', feature_perturbation='interventional')...\n",
      "Note: Shap interaction values will not be available. If shap values in probability space are not necessary you can pass model_output='logodds' to get shap values in logodds without the need for a background dataset and also working shap interaction values...\n",
      "Building ExplainerDashboard..\n",
      "Detected notebook environment, consider setting mode='external', mode='inline' or mode='jupyterlab' to keep the notebook interactive while the dashboard is running...\n",
      "Generating layout...\n",
      "Calculating shap values...\n",
      "Calculating prediction probabilities...\n",
      "Calculating metrics...\n",
      "Calculating confusion matrices...\n",
      "Calculating classification_dfs...\n",
      "Calculating roc auc curves...\n",
      "Calculating pr auc curves...\n",
      "Calculating liftcurve_dfs...\n",
      "Calculating dependencies...\n",
      "Calculating permutation importances (if slow, try setting n_jobs parameter)...\n",
      "Calculating predictions...\n",
      "Calculating pred_percentiles...\n",
      "Reminder: you can store the explainer (including calculated dependencies) with explainer.dump('explainer.joblib') and reload with e.g. ClassifierExplainer.from_file('explainer.joblib')\n",
      "Registering callbacks...\n"
     ]
    }
   ],
   "source": [
    "################################# 1st DASHBOARD -- CATBOOST ####################################\n",
    "###\n",
    "###\n",
    "# Create 1st Explainer Dashboard\n",
    "model_catb_tuned = catb.CatBoostClassifier(depth=4, iterations=30, learning_rate=0.1)\n",
    "model_catb_tuned.fit(X_train, y_train)\n",
    "explainer_catb = ClassifierExplainer(\n",
    "                model_catb_tuned, X_test, y_test,\n",
    "                labels=['Had Mental Illness', 'No Mental Ilness']\n",
    ")\n",
    "\n",
    "db_catb = ExplainerDashboard(explainer_catb, name='catb', title=\"CatBoost Explainer\",\n",
    "                    whatif=False,\n",
    "                    shap_interaction=False,\n",
    "                    decision_trees=False)"
   ]
  },
  {
   "cell_type": "code",
   "execution_count": 7,
   "metadata": {},
   "outputs": [
    {
     "name": "stdout",
     "output_type": "stream",
     "text": [
      "Detected XGBClassifier model: Changing class type to XGBClassifierExplainer...\n",
      "Note: model_output=='probability'. For XGBClassifier shap values normally get calculated against X_background, but paramater X_background=None, so using X instead\n",
      "Generating self.shap_explainer = shap.TreeExplainer(model, X, model_output='probability', feature_perturbation='interventional')...\n",
      "Note: Shap interaction values will not be available. If shap values in probability space are not necessary you can pass model_output='logodds' to get shap values in logodds without the need for a background dataset and also working shap interaction values...\n",
      "Building ExplainerDashboard..\n",
      "Detected notebook environment, consider setting mode='external', mode='inline' or mode='jupyterlab' to keep the notebook interactive while the dashboard is running...\n",
      "Generating layout...\n",
      "Calculating shap values...\n",
      "Calculating prediction probabilities...\n",
      "Calculating metrics...\n",
      "Calculating confusion matrices...\n",
      "Calculating classification_dfs...\n",
      "Calculating roc auc curves...\n",
      "Calculating pr auc curves...\n",
      "Calculating liftcurve_dfs...\n",
      "Calculating dependencies...\n",
      "Calculating permutation importances (if slow, try setting n_jobs parameter)...\n",
      "Calculating predictions...\n",
      "Calculating pred_percentiles...\n",
      "Reminder: you can store the explainer (including calculated dependencies) with explainer.dump('explainer.joblib') and reload with e.g. ClassifierExplainer.from_file('explainer.joblib')\n",
      "Registering callbacks...\n"
     ]
    }
   ],
   "source": [
    "################################# 2nd DASHBOARD -- XGBOOST ####################################\n",
    "###\n",
    "###\n",
    "# Create 2nd Explainer Dashboard\n",
    "import xgboost as xgb\n",
    "\n",
    "model_xgb_tuned = xgb.XGBClassifier(n_estimators=50, max_depth=5)\n",
    "\n",
    "model_xgb_tuned.fit(X_train, y_train)\n",
    "\n",
    "explainer_xgb = ClassifierExplainer(\n",
    "                model_xgb_tuned, X_test, y_test,\n",
    "                labels=['Had Mental Illness', 'No Mental Ilness']\n",
    ")\n",
    "\n",
    "db_xgb = ExplainerDashboard(explainer_xgb, name='xgb', title=\"XGBoost Explainer\",\n",
    "                    whatif=False,\n",
    "                    shap_interaction=False,\n",
    "                    decision_trees=False)"
   ]
  },
  {
   "cell_type": "code",
   "execution_count": 8,
   "metadata": {},
   "outputs": [
    {
     "name": "stdout",
     "output_type": "stream",
     "text": [
      "[LightGBM] [Warning] Accuracy may be bad since you didn't explicitly set num_leaves OR 2^max_depth > num_leaves. (num_leaves=31).\n",
      "Note: model_output=='probability'. For LGBMClassifier shap values normally get calculated against X_background, but paramater X_background=None, so using X instead\n",
      "Generating self.shap_explainer = shap.TreeExplainer(model, X, model_output='probability', feature_perturbation='interventional')...\n",
      "Note: Shap interaction values will not be available. If shap values in probability space are not necessary you can pass model_output='logodds' to get shap values in logodds without the need for a background dataset and also working shap interaction values...\n",
      "Building ExplainerDashboard..\n",
      "Detected notebook environment, consider setting mode='external', mode='inline' or mode='jupyterlab' to keep the notebook interactive while the dashboard is running...\n",
      "Generating layout...\n",
      "Calculating shap values...\n",
      "Calculating prediction probabilities...\n",
      "Calculating metrics...\n",
      "Calculating confusion matrices...\n",
      "Calculating classification_dfs...\n",
      "Calculating roc auc curves...\n",
      "Calculating pr auc curves...\n",
      "Calculating liftcurve_dfs...\n",
      "Calculating dependencies...\n",
      "Calculating permutation importances (if slow, try setting n_jobs parameter)...\n",
      "Calculating predictions...\n",
      "Calculating pred_percentiles...\n",
      "Reminder: you can store the explainer (including calculated dependencies) with explainer.dump('explainer.joblib') and reload with e.g. ClassifierExplainer.from_file('explainer.joblib')\n",
      "Registering callbacks...\n"
     ]
    }
   ],
   "source": [
    "################################# 3rd DASHBOARD -- LIGHTGBM ####################################\n",
    "###\n",
    "###\n",
    "# Create 3rd Explainer Dashboard\n",
    "\n",
    "model_lgbm_tuned = ltb.LGBMClassifier(n_estimators=50, max_depth=5)\n",
    "\n",
    "model_lgbm_tuned.fit(X_train, y_train)\n",
    "\n",
    "explainer_lgbm = ClassifierExplainer(\n",
    "                model_lgbm_tuned, X_test, y_test,\n",
    "                labels=['Had Mental Illness', 'No Mental Ilness']\n",
    ")\n",
    "\n",
    "db_lgbm = ExplainerDashboard(explainer_lgbm, name='lgbm', title=\"LightGBM Explainer\",\n",
    "                    whatif=False,\n",
    "                    shap_interaction=False,\n",
    "                    decision_trees=False)"
   ]
  },
  {
   "cell_type": "code",
   "execution_count": null,
   "metadata": {},
   "outputs": [
    {
     "name": "stderr",
     "output_type": "stream",
     "text": [
      "Using random SECRET_KEY: c808d3f6-1f19-448f-b9cf-16db6f0294f0, please set it on your app.config[\"SECRET_KEY\"]\n"
     ]
    },
    {
     "name": "stdout",
     "output_type": "stream",
     "text": [
      "Building ExplainerDashboard..\n",
      "Detected notebook environment, consider setting mode='external', mode='inline' or mode='jupyterlab' to keep the notebook interactive while the dashboard is running...\n",
      "Generating layout...\n",
      "Calculating dependencies...\n",
      "Reminder: you can store the explainer (including calculated dependencies) with explainer.dump('explainer.joblib') and reload with e.g. ClassifierExplainer.from_file('explainer.joblib')\n",
      "Registering callbacks...\n",
      "Building ExplainerDashboard..\n",
      "Detected notebook environment, consider setting mode='external', mode='inline' or mode='jupyterlab' to keep the notebook interactive while the dashboard is running...\n",
      "Generating layout...\n",
      "Calculating dependencies...\n",
      "Reminder: you can store the explainer (including calculated dependencies) with explainer.dump('explainer.joblib') and reload with e.g. ClassifierExplainer.from_file('explainer.joblib')\n",
      "Registering callbacks...\n",
      "Building ExplainerDashboard..\n",
      "Detected notebook environment, consider setting mode='external', mode='inline' or mode='jupyterlab' to keep the notebook interactive while the dashboard is running...\n",
      "Generating layout...\n",
      "Calculating dependencies...\n",
      "Reminder: you can store the explainer (including calculated dependencies) with explainer.dump('explainer.joblib') and reload with e.g. ClassifierExplainer.from_file('explainer.joblib')\n",
      "Registering callbacks...\n",
      "Starting ExplainerHub on http://192.168.178.29:8053/\n",
      " * Serving Flask app \"explainerdashboard.dashboards\" (lazy loading)\n",
      " * Environment: production\n",
      "\u001b[31m   WARNING: This is a development server. Do not use it in a production deployment.\u001b[0m\n",
      "\u001b[2m   Use a production WSGI server instead.\u001b[0m\n",
      " * Debug mode: off\n"
     ]
    },
    {
     "name": "stderr",
     "output_type": "stream",
     "text": [
      " * Running on http://0.0.0.0:8053/ (Press CTRL+C to quit)\n",
      "127.0.0.1 - - [09/Jun/2022 15:58:28] \"\u001b[37mGET / HTTP/1.1\u001b[0m\" 200 -\n",
      "127.0.0.1 - - [09/Jun/2022 15:58:28] \"\u001b[37mGET /static/bootstrap.min.css HTTP/1.1\u001b[0m\" 200 -\n",
      "127.0.0.1 - - [09/Jun/2022 15:58:28] \"\u001b[37mGET /static/jquery-3.5.1.slim.min.js HTTP/1.1\u001b[0m\" 200 -\n",
      "127.0.0.1 - - [09/Jun/2022 15:58:28] \"\u001b[37mGET /static/bootstrap.min.js HTTP/1.1\u001b[0m\" 200 -\n",
      "127.0.0.1 - - [09/Jun/2022 15:58:28] \"\u001b[37mGET /index/ HTTP/1.1\u001b[0m\" 200 -\n",
      "127.0.0.1 - - [09/Jun/2022 15:58:28] \"\u001b[37mGET /index/_dash-component-suites/dash/deps/react@16.v2_3_1m1651157205.14.0.min.js HTTP/1.1\u001b[0m\" 200 -\n",
      "127.0.0.1 - - [09/Jun/2022 15:58:28] \"\u001b[37mGET /index/assets/bootstrap.min.css?m=1651904588.9278898 HTTP/1.1\u001b[0m\" 200 -\n",
      "127.0.0.1 - - [09/Jun/2022 15:58:28] \"\u001b[37mGET /index/_dash-component-suites/dash/deps/polyfill@7.v2_3_1m1651157205.12.1.min.js HTTP/1.1\u001b[0m\" 200 -\n",
      "127.0.0.1 - - [09/Jun/2022 15:58:28] \"\u001b[37mGET /index/_dash-component-suites/dash/deps/react-dom@16.v2_3_1m1651157205.14.0.min.js HTTP/1.1\u001b[0m\" 200 -\n",
      "127.0.0.1 - - [09/Jun/2022 15:58:28] \"\u001b[37mGET /index/_dash-component-suites/dash/deps/prop-types@15.v2_3_1m1651157205.7.2.min.js HTTP/1.1\u001b[0m\" 200 -\n",
      "127.0.0.1 - - [09/Jun/2022 15:58:28] \"\u001b[37mGET /index/_dash-component-suites/dash_bootstrap_components/_components/dash_bootstrap_components.v0_13_1m1651904588.min.js HTTP/1.1\u001b[0m\" 200 -\n",
      "127.0.0.1 - - [09/Jun/2022 15:58:28] \"\u001b[37mGET /index/_dash-component-suites/dash/dash-renderer/build/dash_renderer.v2_3_1m1651157205.min.js HTTP/1.1\u001b[0m\" 200 -\n",
      "127.0.0.1 - - [09/Jun/2022 15:58:28] \"\u001b[37mGET /index/_dash-component-suites/dash/dcc/dash_core_components.v2_3_0m1651157205.js HTTP/1.1\u001b[0m\" 200 -\n",
      "127.0.0.1 - - [09/Jun/2022 15:58:28] \"\u001b[37mGET /index/_dash-component-suites/dash/dcc/dash_core_components-shared.v2_3_0m1651157205.js HTTP/1.1\u001b[0m\" 200 -\n",
      "127.0.0.1 - - [09/Jun/2022 15:58:28] \"\u001b[37mGET /index/_dash-component-suites/dash/html/dash_html_components.v2_0_2m1651157205.min.js HTTP/1.1\u001b[0m\" 200 -\n",
      "127.0.0.1 - - [09/Jun/2022 15:58:28] \"\u001b[37mGET /index/_dash-component-suites/dash/dash_table/bundle.v5_1_1m1651157205.js HTTP/1.1\u001b[0m\" 200 -\n",
      "127.0.0.1 - - [09/Jun/2022 15:58:28] \"\u001b[37mGET /index/_dash-layout HTTP/1.1\u001b[0m\" 200 -\n",
      "127.0.0.1 - - [09/Jun/2022 15:58:28] \"\u001b[37mGET /index/_dash-dependencies HTTP/1.1\u001b[0m\" 200 -\n",
      "127.0.0.1 - - [09/Jun/2022 15:58:28] \"\u001b[37mGET /static/favicon.ico HTTP/1.1\u001b[0m\" 200 -\n",
      "127.0.0.1 - - [09/Jun/2022 15:58:31] \"\u001b[37mGET /dashboards/xgb/ HTTP/1.1\u001b[0m\" 200 -\n",
      "127.0.0.1 - - [09/Jun/2022 15:58:31] \"\u001b[37mGET /dashboards/xgb/_dash-component-suites/dash/deps/polyfill@7.v2_3_1m1651157205.12.1.min.js HTTP/1.1\u001b[0m\" 200 -\n",
      "127.0.0.1 - - [09/Jun/2022 15:58:31] \"\u001b[37mGET /dashboards/xgb/assets/bootstrap.min.css?m=1651904588.9278898 HTTP/1.1\u001b[0m\" 200 -\n",
      "127.0.0.1 - - [09/Jun/2022 15:58:31] \"\u001b[37mGET /dashboards/xgb/_dash-component-suites/dash/deps/react@16.v2_3_1m1651157205.14.0.min.js HTTP/1.1\u001b[0m\" 200 -\n",
      "127.0.0.1 - - [09/Jun/2022 15:58:31] \"\u001b[37mGET /dashboards/xgb/_dash-component-suites/dash/deps/react-dom@16.v2_3_1m1651157205.14.0.min.js HTTP/1.1\u001b[0m\" 200 -\n",
      "127.0.0.1 - - [09/Jun/2022 15:58:31] \"\u001b[37mGET /dashboards/xgb/_dash-component-suites/dash/deps/prop-types@15.v2_3_1m1651157205.7.2.min.js HTTP/1.1\u001b[0m\" 200 -\n",
      "127.0.0.1 - - [09/Jun/2022 15:58:31] \"\u001b[37mGET /dashboards/xgb/_dash-component-suites/dash_bootstrap_components/_components/dash_bootstrap_components.v0_13_1m1651904588.min.js HTTP/1.1\u001b[0m\" 200 -\n",
      "127.0.0.1 - - [09/Jun/2022 15:58:31] \"\u001b[37mGET /dashboards/xgb/_dash-component-suites/dash/dash-renderer/build/dash_renderer.v2_3_1m1651157205.min.js HTTP/1.1\u001b[0m\" 200 -\n",
      "127.0.0.1 - - [09/Jun/2022 15:58:31] \"\u001b[37mGET /dashboards/xgb/_dash-component-suites/dash/dcc/dash_core_components.v2_3_0m1651157205.js HTTP/1.1\u001b[0m\" 200 -\n",
      "127.0.0.1 - - [09/Jun/2022 15:58:31] \"\u001b[37mGET /dashboards/xgb/_dash-component-suites/dash/dcc/dash_core_components-shared.v2_3_0m1651157205.js HTTP/1.1\u001b[0m\" 200 -\n",
      "127.0.0.1 - - [09/Jun/2022 15:58:31] \"\u001b[37mGET /dashboards/xgb/_dash-component-suites/dash/html/dash_html_components.v2_0_2m1651157205.min.js HTTP/1.1\u001b[0m\" 200 -\n",
      "127.0.0.1 - - [09/Jun/2022 15:58:31] \"\u001b[37mGET /dashboards/xgb/_dash-component-suites/dash/dash_table/bundle.v5_1_1m1651157205.js HTTP/1.1\u001b[0m\" 200 -\n",
      "127.0.0.1 - - [09/Jun/2022 15:58:31] \"\u001b[37mGET /dashboards/xgb/_dash-layout HTTP/1.1\u001b[0m\" 200 -\n",
      "127.0.0.1 - - [09/Jun/2022 15:58:31] \"\u001b[37mGET /dashboards/xgb/_dash-dependencies HTTP/1.1\u001b[0m\" 200 -\n",
      "127.0.0.1 - - [09/Jun/2022 15:58:31] \"\u001b[37mGET /dashboards/xgb/_dash-component-suites/dash/dcc/async-dropdown.js HTTP/1.1\u001b[0m\" 200 -\n",
      "127.0.0.1 - - [09/Jun/2022 15:58:31] \"\u001b[37mGET /dashboards/xgb/_dash-component-suites/dash/dcc/async-graph.js HTTP/1.1\u001b[0m\" 200 -\n",
      "127.0.0.1 - - [09/Jun/2022 15:58:31] \"\u001b[37mGET /dashboards/xgb/_dash-component-suites/dash/dcc/async-plotlyjs.js HTTP/1.1\u001b[0m\" 200 -\n",
      "127.0.0.1 - - [09/Jun/2022 15:58:31] \"\u001b[37mPOST /dashboards/xgb/_dash-update-component HTTP/1.1\u001b[0m\" 204 -\n",
      "127.0.0.1 - - [09/Jun/2022 15:58:31] \"\u001b[37mPOST /dashboards/xgb/_dash-update-component HTTP/1.1\u001b[0m\" 200 -\n",
      "127.0.0.1 - - [09/Jun/2022 15:58:31] \"\u001b[37mPOST /dashboards/xgb/_dash-update-component HTTP/1.1\u001b[0m\" 200 -\n",
      "127.0.0.1 - - [09/Jun/2022 15:58:31] \"\u001b[37mPOST /dashboards/xgb/_dash-update-component HTTP/1.1\u001b[0m\" 200 -\n",
      "127.0.0.1 - - [09/Jun/2022 15:58:31] \"\u001b[37mPOST /dashboards/xgb/_dash-update-component HTTP/1.1\u001b[0m\" 200 -\n",
      "127.0.0.1 - - [09/Jun/2022 15:58:31] \"\u001b[37mPOST /dashboards/xgb/_dash-update-component HTTP/1.1\u001b[0m\" 200 -\n",
      "127.0.0.1 - - [09/Jun/2022 15:58:31] \"\u001b[37mPOST /dashboards/xgb/_dash-update-component HTTP/1.1\u001b[0m\" 200 -\n",
      "127.0.0.1 - - [09/Jun/2022 15:58:31] \"\u001b[37mPOST /dashboards/xgb/_dash-update-component HTTP/1.1\u001b[0m\" 200 -\n",
      "127.0.0.1 - - [09/Jun/2022 15:58:31] \"\u001b[37mPOST /dashboards/xgb/_dash-update-component HTTP/1.1\u001b[0m\" 200 -\n",
      "127.0.0.1 - - [09/Jun/2022 15:58:31] \"\u001b[37mPOST /dashboards/xgb/_dash-update-component HTTP/1.1\u001b[0m\" 200 -\n",
      "127.0.0.1 - - [09/Jun/2022 15:58:31] \"\u001b[37mPOST /dashboards/xgb/_dash-update-component HTTP/1.1\u001b[0m\" 200 -\n",
      "127.0.0.1 - - [09/Jun/2022 15:58:31] \"\u001b[37mPOST /dashboards/xgb/_dash-update-component HTTP/1.1\u001b[0m\" 200 -\n",
      "127.0.0.1 - - [09/Jun/2022 15:58:31] \"\u001b[37mPOST /dashboards/xgb/_dash-update-component HTTP/1.1\u001b[0m\" 200 -\n",
      "127.0.0.1 - - [09/Jun/2022 15:58:31] \"\u001b[37mPOST /dashboards/xgb/_dash-update-component HTTP/1.1\u001b[0m\" 200 -\n",
      "127.0.0.1 - - [09/Jun/2022 15:58:31] \"\u001b[37mPOST /dashboards/xgb/_dash-update-component HTTP/1.1\u001b[0m\" 200 -\n",
      "127.0.0.1 - - [09/Jun/2022 15:58:31] \"\u001b[37mPOST /dashboards/xgb/_dash-update-component HTTP/1.1\u001b[0m\" 200 -\n",
      "127.0.0.1 - - [09/Jun/2022 15:58:31] \"\u001b[37mPOST /dashboards/xgb/_dash-update-component HTTP/1.1\u001b[0m\" 200 -\n",
      "127.0.0.1 - - [09/Jun/2022 15:58:31] \"\u001b[37mPOST /dashboards/xgb/_dash-update-component HTTP/1.1\u001b[0m\" 200 -\n",
      "127.0.0.1 - - [09/Jun/2022 15:58:31] \"\u001b[37mPOST /dashboards/xgb/_dash-update-component HTTP/1.1\u001b[0m\" 200 -\n",
      "127.0.0.1 - - [09/Jun/2022 15:58:31] \"\u001b[37mPOST /dashboards/xgb/_dash-update-component HTTP/1.1\u001b[0m\" 204 -\n",
      "127.0.0.1 - - [09/Jun/2022 15:58:31] \"\u001b[37mPOST /dashboards/xgb/_dash-update-component HTTP/1.1\u001b[0m\" 200 -\n",
      "127.0.0.1 - - [09/Jun/2022 15:58:31] \"\u001b[37mPOST /dashboards/xgb/_dash-update-component HTTP/1.1\u001b[0m\" 200 -\n",
      "127.0.0.1 - - [09/Jun/2022 15:58:31] \"\u001b[37mPOST /dashboards/xgb/_dash-update-component HTTP/1.1\u001b[0m\" 200 -\n",
      "127.0.0.1 - - [09/Jun/2022 15:58:31] \"\u001b[37mPOST /dashboards/xgb/_dash-update-component HTTP/1.1\u001b[0m\" 200 -\n",
      "127.0.0.1 - - [09/Jun/2022 15:58:31] \"\u001b[37mPOST /dashboards/xgb/_dash-update-component HTTP/1.1\u001b[0m\" 200 -\n",
      "127.0.0.1 - - [09/Jun/2022 15:58:31] \"\u001b[37mPOST /dashboards/xgb/_dash-update-component HTTP/1.1\u001b[0m\" 200 -\n",
      "127.0.0.1 - - [09/Jun/2022 15:58:31] \"\u001b[37mPOST /dashboards/xgb/_dash-update-component HTTP/1.1\u001b[0m\" 200 -\n",
      "127.0.0.1 - - [09/Jun/2022 15:58:31] \"\u001b[37mPOST /dashboards/xgb/_dash-update-component HTTP/1.1\u001b[0m\" 204 -\n",
      "127.0.0.1 - - [09/Jun/2022 15:58:31] \"\u001b[37mPOST /dashboards/xgb/_dash-update-component HTTP/1.1\u001b[0m\" 204 -\n",
      "127.0.0.1 - - [09/Jun/2022 15:58:31] \"\u001b[37mPOST /dashboards/xgb/_dash-update-component HTTP/1.1\u001b[0m\" 200 -\n",
      "127.0.0.1 - - [09/Jun/2022 15:58:31] \"\u001b[37mPOST /dashboards/xgb/_dash-update-component HTTP/1.1\u001b[0m\" 200 -\n",
      "127.0.0.1 - - [09/Jun/2022 15:58:31] \"\u001b[37mPOST /dashboards/xgb/_dash-update-component HTTP/1.1\u001b[0m\" 200 -\n",
      "127.0.0.1 - - [09/Jun/2022 15:58:31] \"\u001b[37mPOST /dashboards/xgb/_dash-update-component HTTP/1.1\u001b[0m\" 200 -\n",
      "127.0.0.1 - - [09/Jun/2022 15:58:31] \"\u001b[37mPOST /dashboards/xgb/_dash-update-component HTTP/1.1\u001b[0m\" 200 -\n",
      "127.0.0.1 - - [09/Jun/2022 15:58:32] \"\u001b[37mPOST /dashboards/xgb/_dash-update-component HTTP/1.1\u001b[0m\" 200 -\n",
      "127.0.0.1 - - [09/Jun/2022 15:58:32] \"\u001b[37mPOST /dashboards/xgb/_dash-update-component HTTP/1.1\u001b[0m\" 200 -\n",
      "127.0.0.1 - - [09/Jun/2022 15:58:32] \"\u001b[37mPOST /dashboards/xgb/_dash-update-component HTTP/1.1\u001b[0m\" 200 -\n",
      "127.0.0.1 - - [09/Jun/2022 15:58:32] \"\u001b[37mPOST /dashboards/xgb/_dash-update-component HTTP/1.1\u001b[0m\" 200 -\n",
      "127.0.0.1 - - [09/Jun/2022 15:58:32] \"\u001b[37mPOST /dashboards/xgb/_dash-update-component HTTP/1.1\u001b[0m\" 200 -\n",
      "127.0.0.1 - - [09/Jun/2022 15:58:32] \"\u001b[37mPOST /dashboards/xgb/_dash-update-component HTTP/1.1\u001b[0m\" 200 -\n",
      "127.0.0.1 - - [09/Jun/2022 15:58:32] \"\u001b[37mPOST /dashboards/xgb/_dash-update-component HTTP/1.1\u001b[0m\" 200 -\n",
      "127.0.0.1 - - [09/Jun/2022 15:58:32] \"\u001b[37mPOST /dashboards/xgb/_dash-update-component HTTP/1.1\u001b[0m\" 200 -\n",
      "127.0.0.1 - - [09/Jun/2022 15:58:32] \"\u001b[37mPOST /dashboards/xgb/_dash-update-component HTTP/1.1\u001b[0m\" 200 -\n",
      "127.0.0.1 - - [09/Jun/2022 15:58:32] \"\u001b[37mPOST /dashboards/xgb/_dash-update-component HTTP/1.1\u001b[0m\" 200 -\n",
      "127.0.0.1 - - [09/Jun/2022 15:58:32] \"\u001b[37mPOST /dashboards/xgb/_dash-update-component HTTP/1.1\u001b[0m\" 200 -\n",
      "127.0.0.1 - - [09/Jun/2022 15:58:32] \"\u001b[37mPOST /dashboards/xgb/_dash-update-component HTTP/1.1\u001b[0m\" 200 -\n",
      "127.0.0.1 - - [09/Jun/2022 15:58:32] \"\u001b[37mPOST /dashboards/xgb/_dash-update-component HTTP/1.1\u001b[0m\" 200 -\n",
      "127.0.0.1 - - [09/Jun/2022 15:58:32] \"\u001b[37mPOST /dashboards/xgb/_dash-update-component HTTP/1.1\u001b[0m\" 200 -\n",
      "127.0.0.1 - - [09/Jun/2022 15:58:32] \"\u001b[37mPOST /dashboards/xgb/_dash-update-component HTTP/1.1\u001b[0m\" 200 -\n",
      "127.0.0.1 - - [09/Jun/2022 15:58:32] \"\u001b[37mPOST /dashboards/xgb/_dash-update-component HTTP/1.1\u001b[0m\" 200 -\n",
      "127.0.0.1 - - [09/Jun/2022 15:58:32] \"\u001b[37mPOST /dashboards/xgb/_dash-update-component HTTP/1.1\u001b[0m\" 200 -\n",
      "127.0.0.1 - - [09/Jun/2022 15:58:32] \"\u001b[37mPOST /dashboards/xgb/_dash-update-component HTTP/1.1\u001b[0m\" 200 -\n",
      "127.0.0.1 - - [09/Jun/2022 15:58:40] \"\u001b[37mGET /dashboards/xgb/_dash-component-suites/dash/dcc/async-slider.js HTTP/1.1\u001b[0m\" 200 -\n",
      "127.0.0.1 - - [09/Jun/2022 15:58:52] \"\u001b[37mPOST /dashboards/xgb/_dash-update-component HTTP/1.1\u001b[0m\" 200 -\n",
      "127.0.0.1 - - [09/Jun/2022 15:58:55] \"\u001b[37mPOST /dashboards/xgb/_dash-update-component HTTP/1.1\u001b[0m\" 200 -\n",
      "127.0.0.1 - - [09/Jun/2022 15:58:58] \"\u001b[37mPOST /dashboards/xgb/_dash-update-component HTTP/1.1\u001b[0m\" 200 -\n",
      "127.0.0.1 - - [09/Jun/2022 15:59:04] \"\u001b[37mPOST /dashboards/xgb/_dash-update-component HTTP/1.1\u001b[0m\" 200 -\n",
      "127.0.0.1 - - [09/Jun/2022 15:59:07] \"\u001b[37mPOST /dashboards/xgb/_dash-update-component HTTP/1.1\u001b[0m\" 200 -\n",
      "127.0.0.1 - - [09/Jun/2022 15:59:11] \"\u001b[37mPOST /dashboards/xgb/_dash-update-component HTTP/1.1\u001b[0m\" 200 -\n",
      "127.0.0.1 - - [09/Jun/2022 15:59:15] \"\u001b[37mPOST /dashboards/xgb/_dash-update-component HTTP/1.1\u001b[0m\" 200 -\n"
     ]
    }
   ],
   "source": [
    "# Run all dashboards in a single host\n",
    "#db_catb, db_lgbm, db_xgb, \n",
    "hub = ExplainerHub([db_xgb, db_lgbm, db_catb])\n",
    "hub.run(8053)"
   ]
  },
  {
   "cell_type": "code",
   "execution_count": null,
   "metadata": {},
   "outputs": [],
   "source": []
  }
 ],
 "metadata": {
  "kernelspec": {
   "display_name": "Python 3",
   "language": "python",
   "name": "python3"
  },
  "language_info": {
   "codemirror_mode": {
    "name": "ipython",
    "version": 3
   },
   "file_extension": ".py",
   "mimetype": "text/x-python",
   "name": "python",
   "nbconvert_exporter": "python",
   "pygments_lexer": "ipython3",
   "version": "3.8.5"
  }
 },
 "nbformat": 4,
 "nbformat_minor": 4
}
