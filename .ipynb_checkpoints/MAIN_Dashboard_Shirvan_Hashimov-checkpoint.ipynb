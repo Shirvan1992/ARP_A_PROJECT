{
 "cells": [
  {
   "cell_type": "markdown",
   "metadata": {},
   "source": [
    "# Main Dashboard"
   ]
  },
  {
   "cell_type": "code",
   "execution_count": 6,
   "metadata": {},
   "outputs": [],
   "source": [
    "# import libraries\n",
    "from sklearn import metrics\n",
    "from sklearn.model_selection import train_test_split\n",
    "import lightgbm as ltb\n",
    "import xgboost as xgb\n",
    "import catboost as catb\n",
    "import pandas as pd\n",
    "from sklearn.ensemble import RandomForestClassifier\n",
    "from explainerdashboard import ClassifierExplainer, ExplainerDashboard, ExplainerHub\n",
    "from explainerdashboard.custom import *\n",
    "import re"
   ]
  },
  {
   "cell_type": "code",
   "execution_count": 7,
   "metadata": {},
   "outputs": [],
   "source": [
    "# import dataset\n",
    "df = pd.read_csv(\"./cleaned_data/mental_health_data_2016-2021_cleaned.csv\")"
   ]
  },
  {
   "cell_type": "code",
   "execution_count": 8,
   "metadata": {},
   "outputs": [],
   "source": [
    "# correct column names\n",
    "arp_data1 = df.rename(columns = lambda x:re.sub('[^A-Za-z0-9_]+', '', x))"
   ]
  },
  {
   "cell_type": "code",
   "execution_count": 9,
   "metadata": {},
   "outputs": [],
   "source": [
    "# Create train and test datasets\n",
    "y=arp_data1[\"Have_mental_illness\"]\n",
    "X=arp_data1.drop(\"Have_mental_illness\", axis=1)\n",
    "X_train, X_test, y_train, y_test = train_test_split(X, y, test_size=0.25)"
   ]
  },
  {
   "cell_type": "code",
   "execution_count": null,
   "metadata": {},
   "outputs": [],
   "source": [
    "################################# 1st DASHBOARD -- CATBOOST ####################################\n",
    "###\n",
    "###\n",
    "# Create 1st Explainer Dashboard\n",
    "\n",
    "model_catb_tuned = catb.CatBoostClassifier(n_estimators=50, max_depth=5)\n",
    "\n",
    "#model_catb_tuned = catb.CatBoostClassifier(\n",
    "#    depth=6, iterations=1000, learning_rate=0.1, min_data_in_leaf=399\n",
    "#)\n",
    "\n",
    "model_catb_tuned.fit(X_train, y_train)\n",
    "\n",
    "explainer_catb = ClassifierExplainer(\n",
    "                model_catb_tuned, X_test, y_test,\n",
    "                labels=['Had Mental Illness', 'No Mental Ilness']\n",
    ")\n",
    "\n",
    "db_catb = ExplainerDashboard(explainer_catb, name='catb', title=\"CatBoost Explainer\",\n",
    "                    whatif=False,\n",
    "                    shap_interaction=False,\n",
    "                    decision_trees=False)"
   ]
  },
  {
   "cell_type": "code",
   "execution_count": 1,
   "metadata": {},
   "outputs": [
    {
     "ename": "NameError",
     "evalue": "name 'xgb' is not defined",
     "output_type": "error",
     "traceback": [
      "\u001b[0;31m---------------------------------------------------------------------------\u001b[0m",
      "\u001b[0;31mNameError\u001b[0m                                 Traceback (most recent call last)",
      "\u001b[0;32m<ipython-input-1-a06395790d5d>\u001b[0m in \u001b[0;36m<module>\u001b[0;34m\u001b[0m\n\u001b[1;32m      4\u001b[0m \u001b[0;31m# Create 2nd Explainer Dashboard\u001b[0m\u001b[0;34m\u001b[0m\u001b[0;34m\u001b[0m\u001b[0;34m\u001b[0m\u001b[0m\n\u001b[1;32m      5\u001b[0m \u001b[0;34m\u001b[0m\u001b[0m\n\u001b[0;32m----> 6\u001b[0;31m \u001b[0mmodel_xgb_tuned\u001b[0m \u001b[0;34m=\u001b[0m \u001b[0mxgb\u001b[0m\u001b[0;34m.\u001b[0m\u001b[0mXGBClassifier\u001b[0m\u001b[0;34m(\u001b[0m\u001b[0mn_estimators\u001b[0m\u001b[0;34m=\u001b[0m\u001b[0;36m50\u001b[0m\u001b[0;34m,\u001b[0m \u001b[0mmax_depth\u001b[0m\u001b[0;34m=\u001b[0m\u001b[0;36m5\u001b[0m\u001b[0;34m)\u001b[0m\u001b[0;34m\u001b[0m\u001b[0;34m\u001b[0m\u001b[0m\n\u001b[0m\u001b[1;32m      7\u001b[0m \u001b[0;34m\u001b[0m\u001b[0m\n\u001b[1;32m      8\u001b[0m \u001b[0mmodel_xgb_tuned\u001b[0m\u001b[0;34m.\u001b[0m\u001b[0mfit\u001b[0m\u001b[0;34m(\u001b[0m\u001b[0mX_train\u001b[0m\u001b[0;34m,\u001b[0m \u001b[0my_train\u001b[0m\u001b[0;34m)\u001b[0m\u001b[0;34m\u001b[0m\u001b[0;34m\u001b[0m\u001b[0m\n",
      "\u001b[0;31mNameError\u001b[0m: name 'xgb' is not defined"
     ]
    }
   ],
   "source": [
    "################################# 2nd DASHBOARD -- XGBOOST ####################################\n",
    "###\n",
    "###\n",
    "# Create 2nd Explainer Dashboard\n",
    "\n",
    "model_xgb_tuned = xgb.XGBClassifier(n_estimators=50, max_depth=5)\n",
    "\n",
    "model_xgb_tuned.fit(X_train, y_train)\n",
    "\n",
    "explainer_xgb = ClassifierExplainer(\n",
    "                model_xgb_tuned, X_test, y_test,\n",
    "                labels=['Had Mental Illness', 'No Mental Ilness']\n",
    ")\n",
    "\n",
    "db_xgb = ExplainerDashboard(explainer_xgb, name='xgb', title=\"XGBoost Explainer\",\n",
    "                    whatif=False,\n",
    "                    shap_interaction=False,\n",
    "                    decision_trees=False)"
   ]
  },
  {
   "cell_type": "code",
   "execution_count": 2,
   "metadata": {},
   "outputs": [
    {
     "ename": "NameError",
     "evalue": "name 'ltb' is not defined",
     "output_type": "error",
     "traceback": [
      "\u001b[0;31m---------------------------------------------------------------------------\u001b[0m",
      "\u001b[0;31mNameError\u001b[0m                                 Traceback (most recent call last)",
      "\u001b[0;32m<ipython-input-2-3010cee9a517>\u001b[0m in \u001b[0;36m<module>\u001b[0;34m\u001b[0m\n\u001b[1;32m      4\u001b[0m \u001b[0;31m# Create 3rd Explainer Dashboard\u001b[0m\u001b[0;34m\u001b[0m\u001b[0;34m\u001b[0m\u001b[0;34m\u001b[0m\u001b[0m\n\u001b[1;32m      5\u001b[0m \u001b[0;34m\u001b[0m\u001b[0m\n\u001b[0;32m----> 6\u001b[0;31m \u001b[0mmodel_lgbm_tuned\u001b[0m \u001b[0;34m=\u001b[0m \u001b[0mltb\u001b[0m\u001b[0;34m.\u001b[0m\u001b[0mLGBMClassifier\u001b[0m\u001b[0;34m(\u001b[0m\u001b[0mn_estimators\u001b[0m\u001b[0;34m=\u001b[0m\u001b[0;36m50\u001b[0m\u001b[0;34m,\u001b[0m \u001b[0mmax_depth\u001b[0m\u001b[0;34m=\u001b[0m\u001b[0;36m5\u001b[0m\u001b[0;34m)\u001b[0m\u001b[0;34m\u001b[0m\u001b[0;34m\u001b[0m\u001b[0m\n\u001b[0m\u001b[1;32m      7\u001b[0m \u001b[0;34m\u001b[0m\u001b[0m\n\u001b[1;32m      8\u001b[0m \u001b[0mmodel_lgbm_tuned\u001b[0m\u001b[0;34m.\u001b[0m\u001b[0mfit\u001b[0m\u001b[0;34m(\u001b[0m\u001b[0mX_train\u001b[0m\u001b[0;34m,\u001b[0m \u001b[0my_train\u001b[0m\u001b[0;34m)\u001b[0m\u001b[0;34m\u001b[0m\u001b[0;34m\u001b[0m\u001b[0m\n",
      "\u001b[0;31mNameError\u001b[0m: name 'ltb' is not defined"
     ]
    }
   ],
   "source": [
    "################################# 3rd DASHBOARD -- LIGHTGBM ####################################\n",
    "###\n",
    "###\n",
    "# Create 3rd Explainer Dashboard\n",
    "\n",
    "model_lgbm_tuned = ltb.LGBMClassifier(n_estimators=50, max_depth=5)\n",
    "\n",
    "model_lgbm_tuned.fit(X_train, y_train)\n",
    "\n",
    "explainer_lgbm = ClassifierExplainer(\n",
    "                model_lgbm_tuned, X_test, y_test,\n",
    "                labels=['Had Mental Illness', 'No Mental Ilness']\n",
    ")\n",
    "\n",
    "db_lgbm = ExplainerDashboard(explainer_lgbm, name='lgbm', title=\"LightGBM Explainer\",\n",
    "                    whatif=False,\n",
    "                    shap_interaction=False,\n",
    "                    decision_trees=False)"
   ]
  },
  {
   "cell_type": "code",
   "execution_count": 16,
   "metadata": {},
   "outputs": [
    {
     "name": "stderr",
     "output_type": "stream",
     "text": [
      "Using random SECRET_KEY: 6ef1ff50-edfb-488a-90fb-fec1fe21a2c1, please set it on your app.config[\"SECRET_KEY\"]\n"
     ]
    },
    {
     "name": "stdout",
     "output_type": "stream",
     "text": [
      "Building ExplainerDashboard..\n",
      "Detected notebook environment, consider setting mode='external', mode='inline' or mode='jupyterlab' to keep the notebook interactive while the dashboard is running...\n",
      "Generating layout...\n",
      "Calculating dependencies...\n",
      "Reminder: you can store the explainer (including calculated dependencies) with explainer.dump('explainer.joblib') and reload with e.g. ClassifierExplainer.from_file('explainer.joblib')\n",
      "Registering callbacks...\n",
      "Building ExplainerDashboard..\n",
      "Detected notebook environment, consider setting mode='external', mode='inline' or mode='jupyterlab' to keep the notebook interactive while the dashboard is running...\n",
      "Generating layout...\n",
      "Calculating dependencies...\n",
      "Reminder: you can store the explainer (including calculated dependencies) with explainer.dump('explainer.joblib') and reload with e.g. ClassifierExplainer.from_file('explainer.joblib')\n",
      "Registering callbacks...\n",
      "Building ExplainerDashboard..\n",
      "Detected notebook environment, consider setting mode='external', mode='inline' or mode='jupyterlab' to keep the notebook interactive while the dashboard is running...\n",
      "Generating layout...\n",
      "Calculating dependencies...\n",
      "Reminder: you can store the explainer (including calculated dependencies) with explainer.dump('explainer.joblib') and reload with e.g. ClassifierExplainer.from_file('explainer.joblib')\n",
      "Registering callbacks...\n",
      "Starting ExplainerHub on http://192.168.178.29:8053/\n",
      " * Serving Flask app \"explainerdashboard.dashboards\" (lazy loading)\n",
      " * Environment: production\n",
      "\u001b[31m   WARNING: This is a development server. Do not use it in a production deployment.\u001b[0m\n",
      "\u001b[2m   Use a production WSGI server instead.\u001b[0m\n",
      " * Debug mode: off\n"
     ]
    },
    {
     "name": "stderr",
     "output_type": "stream",
     "text": [
      " * Running on http://0.0.0.0:8053/ (Press CTRL+C to quit)\n",
      "127.0.0.1 - - [29/May/2022 11:21:19] \"\u001b[37mGET / HTTP/1.1\u001b[0m\" 200 -\n",
      "127.0.0.1 - - [29/May/2022 11:21:19] \"\u001b[37mGET /static/bootstrap.min.css HTTP/1.1\u001b[0m\" 200 -\n",
      "127.0.0.1 - - [29/May/2022 11:21:19] \"\u001b[37mGET /static/jquery-3.5.1.slim.min.js HTTP/1.1\u001b[0m\" 200 -\n",
      "127.0.0.1 - - [29/May/2022 11:21:19] \"\u001b[37mGET /static/bootstrap.min.js HTTP/1.1\u001b[0m\" 200 -\n",
      "127.0.0.1 - - [29/May/2022 11:21:21] \"\u001b[37mGET /index/ HTTP/1.1\u001b[0m\" 200 -\n",
      "127.0.0.1 - - [29/May/2022 11:21:21] \"\u001b[37mGET /index/assets/bootstrap.min.css?m=1651904588.9278898 HTTP/1.1\u001b[0m\" 200 -\n",
      "127.0.0.1 - - [29/May/2022 11:21:21] \"\u001b[37mGET /index/_dash-component-suites/dash/deps/polyfill@7.v2_3_1m1651157205.12.1.min.js HTTP/1.1\u001b[0m\" 200 -\n",
      "127.0.0.1 - - [29/May/2022 11:21:21] \"\u001b[37mGET /index/_dash-component-suites/dash_bootstrap_components/_components/dash_bootstrap_components.v0_13_1m1651904588.min.js HTTP/1.1\u001b[0m\" 200 -\n",
      "127.0.0.1 - - [29/May/2022 11:21:21] \"\u001b[37mGET /index/_dash-component-suites/dash/deps/react-dom@16.v2_3_1m1651157205.14.0.min.js HTTP/1.1\u001b[0m\" 200 -\n",
      "127.0.0.1 - - [29/May/2022 11:21:21] \"\u001b[37mGET /index/_dash-component-suites/dash/dash-renderer/build/dash_renderer.v2_3_1m1651157205.min.js HTTP/1.1\u001b[0m\" 200 -\n",
      "127.0.0.1 - - [29/May/2022 11:21:21] \"\u001b[37mGET /index/_dash-component-suites/dash/dcc/dash_core_components.v2_3_0m1651157205.js HTTP/1.1\u001b[0m\" 200 -\n",
      "127.0.0.1 - - [29/May/2022 11:21:21] \"\u001b[37mGET /index/_dash-component-suites/dash/html/dash_html_components.v2_0_2m1651157205.min.js HTTP/1.1\u001b[0m\" 200 -\n",
      "127.0.0.1 - - [29/May/2022 11:21:21] \"\u001b[37mGET /index/_dash-component-suites/dash/dash_table/bundle.v5_1_1m1651157205.js HTTP/1.1\u001b[0m\" 200 -\n",
      "127.0.0.1 - - [29/May/2022 11:21:21] \"\u001b[37mGET /index/_dash-layout HTTP/1.1\u001b[0m\" 200 -\n",
      "127.0.0.1 - - [29/May/2022 11:21:21] \"\u001b[37mGET /index/_dash-dependencies HTTP/1.1\u001b[0m\" 200 -\n",
      "127.0.0.1 - - [29/May/2022 11:26:38] \"\u001b[32mGET /dashboards/catb HTTP/1.1\u001b[0m\" 308 -\n",
      "127.0.0.1 - - [29/May/2022 11:26:38] \"\u001b[37mGET /dashboards/catb/ HTTP/1.1\u001b[0m\" 200 -\n",
      "127.0.0.1 - - [29/May/2022 11:26:38] \"\u001b[37mGET /dashboards/catb/_dash-component-suites/dash/deps/polyfill@7.v2_3_1m1651157205.12.1.min.js HTTP/1.1\u001b[0m\" 200 -\n",
      "127.0.0.1 - - [29/May/2022 11:26:38] \"\u001b[37mGET /dashboards/catb/assets/bootstrap.min.css?m=1651904588.9278898 HTTP/1.1\u001b[0m\" 200 -\n",
      "127.0.0.1 - - [29/May/2022 11:26:38] \"\u001b[37mGET /dashboards/catb/_dash-component-suites/dash/deps/react@16.v2_3_1m1651157205.14.0.min.js HTTP/1.1\u001b[0m\" 200 -\n",
      "127.0.0.1 - - [29/May/2022 11:26:38] \"\u001b[37mGET /dashboards/catb/_dash-component-suites/dash/deps/react-dom@16.v2_3_1m1651157205.14.0.min.js HTTP/1.1\u001b[0m\" 200 -\n",
      "127.0.0.1 - - [29/May/2022 11:26:38] \"\u001b[37mGET /dashboards/catb/_dash-component-suites/dash/deps/prop-types@15.v2_3_1m1651157205.7.2.min.js HTTP/1.1\u001b[0m\" 200 -\n",
      "127.0.0.1 - - [29/May/2022 11:26:38] \"\u001b[37mGET /dashboards/catb/_dash-component-suites/dash/dash-renderer/build/dash_renderer.v2_3_1m1651157205.min.js HTTP/1.1\u001b[0m\" 200 -\n",
      "127.0.0.1 - - [29/May/2022 11:26:38] \"\u001b[37mGET /dashboards/catb/_dash-component-suites/dash_bootstrap_components/_components/dash_bootstrap_components.v0_13_1m1651904588.min.js HTTP/1.1\u001b[0m\" 200 -\n",
      "127.0.0.1 - - [29/May/2022 11:26:38] \"\u001b[37mGET /dashboards/catb/_dash-component-suites/dash/dcc/dash_core_components-shared.v2_3_0m1651157205.js HTTP/1.1\u001b[0m\" 200 -\n",
      "127.0.0.1 - - [29/May/2022 11:26:38] \"\u001b[37mGET /dashboards/catb/_dash-component-suites/dash/dcc/dash_core_components.v2_3_0m1651157205.js HTTP/1.1\u001b[0m\" 200 -\n",
      "127.0.0.1 - - [29/May/2022 11:26:38] \"\u001b[37mGET /dashboards/catb/_dash-component-suites/dash/dash_table/bundle.v5_1_1m1651157205.js HTTP/1.1\u001b[0m\" 200 -\n",
      "127.0.0.1 - - [29/May/2022 11:26:38] \"\u001b[37mGET /dashboards/catb/_dash-component-suites/dash/html/dash_html_components.v2_0_2m1651157205.min.js HTTP/1.1\u001b[0m\" 200 -\n",
      "127.0.0.1 - - [29/May/2022 11:26:38] \"\u001b[37mGET /dashboards/catb/_dash-layout HTTP/1.1\u001b[0m\" 200 -\n",
      "127.0.0.1 - - [29/May/2022 11:26:38] \"\u001b[37mGET /dashboards/catb/_dash-dependencies HTTP/1.1\u001b[0m\" 200 -\n",
      "127.0.0.1 - - [29/May/2022 11:26:38] \"\u001b[37mGET /dashboards/catb/_dash-component-suites/dash/dcc/async-dropdown.js HTTP/1.1\u001b[0m\" 200 -\n",
      "127.0.0.1 - - [29/May/2022 11:26:38] \"\u001b[37mGET /dashboards/catb/_dash-component-suites/dash/dcc/async-graph.js HTTP/1.1\u001b[0m\" 200 -\n",
      "127.0.0.1 - - [29/May/2022 11:26:38] \"\u001b[37mGET /dashboards/catb/_dash-component-suites/dash/dcc/async-plotlyjs.js HTTP/1.1\u001b[0m\" 200 -\n",
      "127.0.0.1 - - [29/May/2022 11:26:38] \"\u001b[37mPOST /dashboards/catb/_dash-update-component HTTP/1.1\u001b[0m\" 204 -\n",
      "127.0.0.1 - - [29/May/2022 11:26:38] \"\u001b[37mPOST /dashboards/catb/_dash-update-component HTTP/1.1\u001b[0m\" 200 -\n",
      "127.0.0.1 - - [29/May/2022 11:26:38] \"\u001b[37mPOST /dashboards/catb/_dash-update-component HTTP/1.1\u001b[0m\" 200 -\n",
      "127.0.0.1 - - [29/May/2022 11:26:38] \"\u001b[37mPOST /dashboards/catb/_dash-update-component HTTP/1.1\u001b[0m\" 200 -\n",
      "127.0.0.1 - - [29/May/2022 11:26:38] \"\u001b[37mPOST /dashboards/catb/_dash-update-component HTTP/1.1\u001b[0m\" 200 -\n",
      "127.0.0.1 - - [29/May/2022 11:26:38] \"\u001b[37mPOST /dashboards/catb/_dash-update-component HTTP/1.1\u001b[0m\" 200 -\n",
      "127.0.0.1 - - [29/May/2022 11:26:38] \"\u001b[37mPOST /dashboards/catb/_dash-update-component HTTP/1.1\u001b[0m\" 200 -\n",
      "127.0.0.1 - - [29/May/2022 11:26:38] \"\u001b[37mPOST /dashboards/catb/_dash-update-component HTTP/1.1\u001b[0m\" 200 -\n",
      "127.0.0.1 - - [29/May/2022 11:26:38] \"\u001b[37mPOST /dashboards/catb/_dash-update-component HTTP/1.1\u001b[0m\" 200 -\n",
      "127.0.0.1 - - [29/May/2022 11:26:38] \"\u001b[37mPOST /dashboards/catb/_dash-update-component HTTP/1.1\u001b[0m\" 200 -\n",
      "127.0.0.1 - - [29/May/2022 11:26:38] \"\u001b[37mPOST /dashboards/catb/_dash-update-component HTTP/1.1\u001b[0m\" 200 -\n",
      "127.0.0.1 - - [29/May/2022 11:26:38] \"\u001b[37mPOST /dashboards/catb/_dash-update-component HTTP/1.1\u001b[0m\" 200 -\n",
      "127.0.0.1 - - [29/May/2022 11:26:38] \"\u001b[37mPOST /dashboards/catb/_dash-update-component HTTP/1.1\u001b[0m\" 200 -\n",
      "127.0.0.1 - - [29/May/2022 11:26:38] \"\u001b[37mPOST /dashboards/catb/_dash-update-component HTTP/1.1\u001b[0m\" 200 -\n",
      "127.0.0.1 - - [29/May/2022 11:26:38] \"\u001b[37mPOST /dashboards/catb/_dash-update-component HTTP/1.1\u001b[0m\" 200 -\n",
      "127.0.0.1 - - [29/May/2022 11:26:38] \"\u001b[37mPOST /dashboards/catb/_dash-update-component HTTP/1.1\u001b[0m\" 200 -\n",
      "127.0.0.1 - - [29/May/2022 11:26:38] \"\u001b[37mPOST /dashboards/catb/_dash-update-component HTTP/1.1\u001b[0m\" 200 -\n",
      "127.0.0.1 - - [29/May/2022 11:26:39] \"\u001b[37mPOST /dashboards/catb/_dash-update-component HTTP/1.1\u001b[0m\" 200 -\n",
      "127.0.0.1 - - [29/May/2022 11:26:39] \"\u001b[37mPOST /dashboards/catb/_dash-update-component HTTP/1.1\u001b[0m\" 200 -\n",
      "127.0.0.1 - - [29/May/2022 11:26:39] \"\u001b[37mPOST /dashboards/catb/_dash-update-component HTTP/1.1\u001b[0m\" 200 -\n",
      "127.0.0.1 - - [29/May/2022 11:26:39] \"\u001b[37mPOST /dashboards/catb/_dash-update-component HTTP/1.1\u001b[0m\" 200 -\n",
      "127.0.0.1 - - [29/May/2022 11:26:39] \"\u001b[37mPOST /dashboards/catb/_dash-update-component HTTP/1.1\u001b[0m\" 200 -\n",
      "127.0.0.1 - - [29/May/2022 11:26:39] \"\u001b[37mPOST /dashboards/catb/_dash-update-component HTTP/1.1\u001b[0m\" 200 -\n",
      "127.0.0.1 - - [29/May/2022 11:26:39] \"\u001b[37mPOST /dashboards/catb/_dash-update-component HTTP/1.1\u001b[0m\" 200 -\n",
      "127.0.0.1 - - [29/May/2022 11:26:39] \"\u001b[37mPOST /dashboards/catb/_dash-update-component HTTP/1.1\u001b[0m\" 200 -\n",
      "127.0.0.1 - - [29/May/2022 11:26:39] \"\u001b[37mPOST /dashboards/catb/_dash-update-component HTTP/1.1\u001b[0m\" 200 -\n",
      "127.0.0.1 - - [29/May/2022 11:26:39] \"\u001b[37mPOST /dashboards/catb/_dash-update-component HTTP/1.1\u001b[0m\" 200 -\n",
      "127.0.0.1 - - [29/May/2022 11:26:39] \"\u001b[37mPOST /dashboards/catb/_dash-update-component HTTP/1.1\u001b[0m\" 200 -\n",
      "127.0.0.1 - - [29/May/2022 11:26:39] \"\u001b[37mPOST /dashboards/catb/_dash-update-component HTTP/1.1\u001b[0m\" 200 -\n",
      "127.0.0.1 - - [29/May/2022 11:26:39] \"\u001b[37mPOST /dashboards/catb/_dash-update-component HTTP/1.1\u001b[0m\" 204 -\n",
      "127.0.0.1 - - [29/May/2022 11:26:39] \"\u001b[37mPOST /dashboards/catb/_dash-update-component HTTP/1.1\u001b[0m\" 200 -\n",
      "127.0.0.1 - - [29/May/2022 11:26:39] \"\u001b[37mPOST /dashboards/catb/_dash-update-component HTTP/1.1\u001b[0m\" 204 -\n",
      "127.0.0.1 - - [29/May/2022 11:26:39] \"\u001b[37mPOST /dashboards/catb/_dash-update-component HTTP/1.1\u001b[0m\" 200 -\n",
      "127.0.0.1 - - [29/May/2022 11:26:39] \"\u001b[37mPOST /dashboards/catb/_dash-update-component HTTP/1.1\u001b[0m\" 204 -\n",
      "127.0.0.1 - - [29/May/2022 11:26:39] \"\u001b[37mPOST /dashboards/catb/_dash-update-component HTTP/1.1\u001b[0m\" 200 -\n",
      "127.0.0.1 - - [29/May/2022 11:26:39] \"\u001b[37mPOST /dashboards/catb/_dash-update-component HTTP/1.1\u001b[0m\" 200 -\n",
      "127.0.0.1 - - [29/May/2022 11:26:39] \"\u001b[37mPOST /dashboards/catb/_dash-update-component HTTP/1.1\u001b[0m\" 200 -\n",
      "127.0.0.1 - - [29/May/2022 11:26:39] \"\u001b[37mPOST /dashboards/catb/_dash-update-component HTTP/1.1\u001b[0m\" 200 -\n",
      "127.0.0.1 - - [29/May/2022 11:26:39] \"\u001b[37mPOST /dashboards/catb/_dash-update-component HTTP/1.1\u001b[0m\" 200 -\n",
      "127.0.0.1 - - [29/May/2022 11:26:39] \"\u001b[37mPOST /dashboards/catb/_dash-update-component HTTP/1.1\u001b[0m\" 200 -\n",
      "127.0.0.1 - - [29/May/2022 11:26:39] \"\u001b[37mPOST /dashboards/catb/_dash-update-component HTTP/1.1\u001b[0m\" 200 -\n",
      "127.0.0.1 - - [29/May/2022 11:26:39] \"\u001b[37mPOST /dashboards/catb/_dash-update-component HTTP/1.1\u001b[0m\" 200 -\n",
      "127.0.0.1 - - [29/May/2022 11:26:39] \"\u001b[37mPOST /dashboards/catb/_dash-update-component HTTP/1.1\u001b[0m\" 200 -\n",
      "127.0.0.1 - - [29/May/2022 11:26:39] \"\u001b[37mPOST /dashboards/catb/_dash-update-component HTTP/1.1\u001b[0m\" 200 -\n",
      "127.0.0.1 - - [29/May/2022 11:26:39] \"\u001b[37mPOST /dashboards/catb/_dash-update-component HTTP/1.1\u001b[0m\" 200 -\n",
      "127.0.0.1 - - [29/May/2022 11:26:39] \"\u001b[37mPOST /dashboards/catb/_dash-update-component HTTP/1.1\u001b[0m\" 200 -\n",
      "127.0.0.1 - - [29/May/2022 11:26:39] \"\u001b[37mPOST /dashboards/catb/_dash-update-component HTTP/1.1\u001b[0m\" 200 -\n",
      "127.0.0.1 - - [29/May/2022 11:26:39] \"\u001b[37mPOST /dashboards/catb/_dash-update-component HTTP/1.1\u001b[0m\" 200 -\n",
      "127.0.0.1 - - [29/May/2022 11:26:39] \"\u001b[37mPOST /dashboards/catb/_dash-update-component HTTP/1.1\u001b[0m\" 200 -\n",
      "127.0.0.1 - - [29/May/2022 11:26:39] \"\u001b[37mPOST /dashboards/catb/_dash-update-component HTTP/1.1\u001b[0m\" 200 -\n",
      "127.0.0.1 - - [29/May/2022 11:26:39] \"\u001b[37mPOST /dashboards/catb/_dash-update-component HTTP/1.1\u001b[0m\" 200 -\n",
      "127.0.0.1 - - [29/May/2022 11:26:39] \"\u001b[37mPOST /dashboards/catb/_dash-update-component HTTP/1.1\u001b[0m\" 200 -\n",
      "127.0.0.1 - - [29/May/2022 11:26:50] \"\u001b[37mPOST /dashboards/catb/_dash-update-component HTTP/1.1\u001b[0m\" 200 -\n",
      "127.0.0.1 - - [29/May/2022 11:26:50] \"\u001b[37mPOST /dashboards/catb/_dash-update-component HTTP/1.1\u001b[0m\" 200 -\n",
      "127.0.0.1 - - [29/May/2022 11:26:50] \"\u001b[37mPOST /dashboards/catb/_dash-update-component HTTP/1.1\u001b[0m\" 200 -\n",
      "127.0.0.1 - - [29/May/2022 11:26:50] \"\u001b[37mPOST /dashboards/catb/_dash-update-component HTTP/1.1\u001b[0m\" 200 -\n",
      "127.0.0.1 - - [29/May/2022 11:26:50] \"\u001b[37mPOST /dashboards/catb/_dash-update-component HTTP/1.1\u001b[0m\" 200 -\n",
      "127.0.0.1 - - [29/May/2022 11:26:50] \"\u001b[37mPOST /dashboards/catb/_dash-update-component HTTP/1.1\u001b[0m\" 204 -\n",
      "127.0.0.1 - - [29/May/2022 11:26:50] \"\u001b[37mPOST /dashboards/catb/_dash-update-component HTTP/1.1\u001b[0m\" 200 -\n",
      "127.0.0.1 - - [29/May/2022 11:26:50] \"\u001b[37mPOST /dashboards/catb/_dash-update-component HTTP/1.1\u001b[0m\" 200 -\n",
      "127.0.0.1 - - [29/May/2022 11:26:50] \"\u001b[37mPOST /dashboards/catb/_dash-update-component HTTP/1.1\u001b[0m\" 200 -\n",
      "127.0.0.1 - - [29/May/2022 11:26:50] \"\u001b[37mPOST /dashboards/catb/_dash-update-component HTTP/1.1\u001b[0m\" 200 -\n",
      "127.0.0.1 - - [29/May/2022 11:26:50] \"\u001b[37mPOST /dashboards/catb/_dash-update-component HTTP/1.1\u001b[0m\" 200 -\n",
      "127.0.0.1 - - [29/May/2022 11:26:50] \"\u001b[37mPOST /dashboards/catb/_dash-update-component HTTP/1.1\u001b[0m\" 200 -\n",
      "127.0.0.1 - - [29/May/2022 11:26:50] \"\u001b[37mPOST /dashboards/catb/_dash-update-component HTTP/1.1\u001b[0m\" 200 -\n",
      "127.0.0.1 - - [29/May/2022 11:26:50] \"\u001b[37mPOST /dashboards/catb/_dash-update-component HTTP/1.1\u001b[0m\" 200 -\n",
      "127.0.0.1 - - [29/May/2022 11:26:50] \"\u001b[37mPOST /dashboards/catb/_dash-update-component HTTP/1.1\u001b[0m\" 200 -\n",
      "127.0.0.1 - - [29/May/2022 11:26:50] \"\u001b[37mPOST /dashboards/catb/_dash-update-component HTTP/1.1\u001b[0m\" 200 -\n",
      "127.0.0.1 - - [29/May/2022 11:26:50] \"\u001b[37mPOST /dashboards/catb/_dash-update-component HTTP/1.1\u001b[0m\" 200 -\n",
      "127.0.0.1 - - [29/May/2022 11:26:50] \"\u001b[37mPOST /dashboards/catb/_dash-update-component HTTP/1.1\u001b[0m\" 200 -\n",
      "127.0.0.1 - - [29/May/2022 11:26:50] \"\u001b[37mPOST /dashboards/catb/_dash-update-component HTTP/1.1\u001b[0m\" 200 -\n",
      "127.0.0.1 - - [29/May/2022 11:26:51] \"\u001b[37mPOST /dashboards/catb/_dash-update-component HTTP/1.1\u001b[0m\" 200 -\n",
      "127.0.0.1 - - [29/May/2022 11:26:51] \"\u001b[37mPOST /dashboards/catb/_dash-update-component HTTP/1.1\u001b[0m\" 200 -\n",
      "127.0.0.1 - - [29/May/2022 11:26:51] \"\u001b[37mPOST /dashboards/catb/_dash-update-component HTTP/1.1\u001b[0m\" 200 -\n",
      "127.0.0.1 - - [29/May/2022 11:26:51] \"\u001b[37mPOST /dashboards/catb/_dash-update-component HTTP/1.1\u001b[0m\" 200 -\n",
      "127.0.0.1 - - [29/May/2022 11:26:51] \"\u001b[37mPOST /dashboards/catb/_dash-update-component HTTP/1.1\u001b[0m\" 200 -\n",
      "127.0.0.1 - - [29/May/2022 11:26:51] \"\u001b[37mPOST /dashboards/catb/_dash-update-component HTTP/1.1\u001b[0m\" 200 -\n",
      "127.0.0.1 - - [29/May/2022 11:26:51] \"\u001b[37mPOST /dashboards/catb/_dash-update-component HTTP/1.1\u001b[0m\" 204 -\n",
      "127.0.0.1 - - [29/May/2022 11:26:51] \"\u001b[37mPOST /dashboards/catb/_dash-update-component HTTP/1.1\u001b[0m\" 200 -\n",
      "127.0.0.1 - - [29/May/2022 11:26:51] \"\u001b[37mPOST /dashboards/catb/_dash-update-component HTTP/1.1\u001b[0m\" 200 -\n",
      "127.0.0.1 - - [29/May/2022 11:26:51] \"\u001b[37mPOST /dashboards/catb/_dash-update-component HTTP/1.1\u001b[0m\" 200 -\n",
      "127.0.0.1 - - [29/May/2022 11:26:51] \"\u001b[37mPOST /dashboards/catb/_dash-update-component HTTP/1.1\u001b[0m\" 200 -\n",
      "127.0.0.1 - - [29/May/2022 11:26:51] \"\u001b[37mPOST /dashboards/catb/_dash-update-component HTTP/1.1\u001b[0m\" 200 -\n",
      "127.0.0.1 - - [29/May/2022 11:26:51] \"\u001b[37mPOST /dashboards/catb/_dash-update-component HTTP/1.1\u001b[0m\" 200 -\n",
      "127.0.0.1 - - [29/May/2022 11:26:51] \"\u001b[37mPOST /dashboards/catb/_dash-update-component HTTP/1.1\u001b[0m\" 200 -\n",
      "127.0.0.1 - - [29/May/2022 11:26:51] \"\u001b[37mPOST /dashboards/catb/_dash-update-component HTTP/1.1\u001b[0m\" 200 -\n",
      "127.0.0.1 - - [29/May/2022 11:26:51] \"\u001b[37mPOST /dashboards/catb/_dash-update-component HTTP/1.1\u001b[0m\" 200 -\n",
      "127.0.0.1 - - [29/May/2022 11:26:51] \"\u001b[37mPOST /dashboards/catb/_dash-update-component HTTP/1.1\u001b[0m\" 200 -\n",
      "127.0.0.1 - - [29/May/2022 11:26:51] \"\u001b[37mPOST /dashboards/catb/_dash-update-component HTTP/1.1\u001b[0m\" 200 -\n",
      "127.0.0.1 - - [29/May/2022 11:26:51] \"\u001b[37mPOST /dashboards/catb/_dash-update-component HTTP/1.1\u001b[0m\" 200 -\n",
      "127.0.0.1 - - [29/May/2022 11:26:55] \"\u001b[37mGET /dashboards/catb/_dash-component-suites/dash/dcc/async-slider.js HTTP/1.1\u001b[0m\" 200 -\n",
      "127.0.0.1 - - [29/May/2022 11:27:57] \"\u001b[37mPOST /dashboards/catb/_dash-update-component HTTP/1.1\u001b[0m\" 200 -\n",
      "127.0.0.1 - - [29/May/2022 11:28:00] \"\u001b[37mPOST /dashboards/catb/_dash-update-component HTTP/1.1\u001b[0m\" 200 -\n"
     ]
    }
   ],
   "source": [
    "# Run all dashboards in a single host\n",
    "#db_catb, db_lgbm, db_xgb, \n",
    "hub = ExplainerHub([db_xgb, db_lgbm, db_catb])\n",
    "hub.run(8053)"
   ]
  },
  {
   "cell_type": "code",
   "execution_count": null,
   "metadata": {},
   "outputs": [],
   "source": []
  }
 ],
 "metadata": {
  "kernelspec": {
   "display_name": "Python 3",
   "language": "python",
   "name": "python3"
  },
  "language_info": {
   "codemirror_mode": {
    "name": "ipython",
    "version": 3
   },
   "file_extension": ".py",
   "mimetype": "text/x-python",
   "name": "python",
   "nbconvert_exporter": "python",
   "pygments_lexer": "ipython3",
   "version": "3.8.5"
  }
 },
 "nbformat": 4,
 "nbformat_minor": 4
}
